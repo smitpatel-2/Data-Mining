{
  "cells": [
    {
      "cell_type": "code",
      "execution_count": null,
      "metadata": {
        "id": "NX7RBQoHkczZ"
      },
      "outputs": [],
      "source": [
        "dataset = [['A', 'B', 'C'],\n",
        "          ['B', 'C'],\n",
        "          ['C', 'D', 'E'],\n",
        "          ['C', 'D', 'E', 'F'],\n",
        "          ['A', 'B'],\n",
        "          ['A', 'B'],\n",
        "          ['A', 'D']]"
      ]
    },
    {
      "cell_type": "code",
      "execution_count": null,
      "metadata": {
        "id": "tmEYwUOwkczn",
        "outputId": "e3102435-54b1-4e47-ab88-cfba8eb2a999"
      },
      "outputs": [
        {
          "name": "stdout",
          "output_type": "stream",
          "text": [
            "[['A', 'B', 'C'], ['B', 'C'], ['C', 'D', 'E'], ['C', 'D', 'E', 'F'], ['A', 'B'], ['A', 'B'], ['A', 'D']]\n"
          ]
        }
      ],
      "source": [
        "print(dataset)"
      ]
    },
    {
      "cell_type": "code",
      "execution_count": null,
      "metadata": {
        "id": "gopDP2Eokczv",
        "outputId": "e3cad196-8aee-4c5d-d95c-9798eabb2990"
      },
      "outputs": [
        {
          "name": "stdout",
          "output_type": "stream",
          "text": [
            "       A      B      C      D      E      F\n",
            "0   True   True   True  False  False  False\n",
            "1  False   True   True  False  False  False\n",
            "2  False  False   True   True   True  False\n",
            "3  False  False   True   True   True   True\n",
            "4   True   True  False  False  False  False\n",
            "5   True   True  False  False  False  False\n",
            "6   True  False  False   True  False  False\n"
          ]
        }
      ],
      "source": [
        "import pandas as pd\n",
        "from mlxtend.preprocessing import TransactionEncoder\n",
        "\n",
        "te = TransactionEncoder()\n",
        "te_array = te.fit(dataset).transform(dataset)\n",
        "df = pd.DataFrame(te_array, columns = te.columns_)\n",
        "\n",
        "print(df)"
      ]
    },
    {
      "cell_type": "code",
      "execution_count": null,
      "metadata": {
        "id": "JZOLndackczy"
      },
      "outputs": [],
      "source": [
        "from mlxtend.frequent_patterns import apriori\n",
        "\n",
        "frequent_itemsets_ap = apriori(df, min_support=0.002, use_colnames=True)"
      ]
    },
    {
      "cell_type": "code",
      "execution_count": null,
      "metadata": {
        "id": "dWy7icUhkcz0",
        "outputId": "0ab4def4-c483-4441-d9f3-ef34d1fa37c4"
      },
      "outputs": [
        {
          "name": "stdout",
          "output_type": "stream",
          "text": [
            "     support      itemsets\n",
            "0   0.571429           (A)\n",
            "1   0.571429           (B)\n",
            "2   0.571429           (C)\n",
            "3   0.428571           (D)\n",
            "4   0.285714           (E)\n",
            "5   0.142857           (F)\n",
            "6   0.428571        (A, B)\n",
            "7   0.142857        (C, A)\n",
            "8   0.142857        (A, D)\n",
            "9   0.285714        (C, B)\n",
            "10  0.285714        (C, D)\n",
            "11  0.285714        (C, E)\n",
            "12  0.142857        (C, F)\n",
            "13  0.285714        (E, D)\n",
            "14  0.142857        (F, D)\n",
            "15  0.142857        (F, E)\n",
            "16  0.142857     (C, A, B)\n",
            "17  0.285714     (C, E, D)\n",
            "18  0.142857     (C, F, D)\n",
            "19  0.142857     (C, F, E)\n",
            "20  0.142857     (F, E, D)\n",
            "21  0.142857  (C, F, E, D)\n"
          ]
        }
      ],
      "source": [
        "print(frequent_itemsets_ap)"
      ]
    },
    {
      "cell_type": "code",
      "execution_count": null,
      "metadata": {
        "id": "5hAMIXx_kcz2"
      },
      "outputs": [],
      "source": [
        "from mlxtend.frequent_patterns import fpgrowth\n",
        "\n",
        "frequent_itemsets_fp = fpgrowth(df, min_support=0.001, use_colnames=True)"
      ]
    },
    {
      "cell_type": "code",
      "execution_count": null,
      "metadata": {
        "id": "tYYBY9Nekcz3",
        "outputId": "11b5b97f-b0aa-40aa-8964-f059c5b84a1f"
      },
      "outputs": [
        {
          "name": "stdout",
          "output_type": "stream",
          "text": [
            "     support      itemsets\n",
            "0   0.571429           (C)\n",
            "1   0.571429           (B)\n",
            "2   0.571429           (A)\n",
            "3   0.428571           (D)\n",
            "4   0.285714           (E)\n",
            "5   0.142857           (F)\n",
            "6   0.285714        (C, B)\n",
            "7   0.428571        (A, B)\n",
            "8   0.142857        (C, A)\n",
            "9   0.142857     (C, A, B)\n",
            "10  0.285714        (C, D)\n",
            "11  0.142857        (A, D)\n",
            "12  0.285714        (E, D)\n",
            "13  0.285714        (C, E)\n",
            "14  0.285714     (C, E, D)\n",
            "15  0.142857        (F, E)\n",
            "16  0.142857        (F, D)\n",
            "17  0.142857        (C, F)\n",
            "18  0.142857     (F, E, D)\n",
            "19  0.142857     (C, F, E)\n",
            "20  0.142857     (C, F, D)\n",
            "21  0.142857  (C, F, E, D)\n"
          ]
        }
      ],
      "source": [
        "print(frequent_itemsets_fp)"
      ]
    },
    {
      "cell_type": "code",
      "execution_count": null,
      "metadata": {
        "id": "8RD5xMnVkcz5"
      },
      "outputs": [],
      "source": [
        "from mlxtend.frequent_patterns import association_rules\n",
        "\n",
        "rules_ap = association_rules(frequent_itemsets_ap, metric=\"confidence\", min_threshold=1)\n",
        "rules_fp = association_rules(frequent_itemsets_fp, metric=\"confidence\", min_threshold=1)"
      ]
    },
    {
      "cell_type": "code",
      "execution_count": null,
      "metadata": {
        "id": "U7CtmNWVkcz7",
        "outputId": "80015b82-9869-446c-8b1b-9c588786300f"
      },
      "outputs": [
        {
          "name": "stdout",
          "output_type": "stream",
          "text": [
            "   antecedents consequents  antecedent support  consequent support   support  \\\n",
            "0          (E)         (C)            0.285714            0.571429  0.285714   \n",
            "1          (F)         (C)            0.142857            0.571429  0.142857   \n",
            "2          (E)         (D)            0.285714            0.428571  0.285714   \n",
            "3          (F)         (D)            0.142857            0.428571  0.142857   \n",
            "4          (F)         (E)            0.142857            0.285714  0.142857   \n",
            "5       (C, A)         (B)            0.142857            0.571429  0.142857   \n",
            "6       (C, E)         (D)            0.285714            0.428571  0.285714   \n",
            "7       (C, D)         (E)            0.285714            0.285714  0.285714   \n",
            "8       (D, E)         (C)            0.285714            0.571429  0.285714   \n",
            "9          (E)      (C, D)            0.285714            0.285714  0.285714   \n",
            "10      (C, F)         (D)            0.142857            0.428571  0.142857   \n",
            "11      (F, D)         (C)            0.142857            0.571429  0.142857   \n",
            "12         (F)      (C, D)            0.142857            0.285714  0.142857   \n",
            "13      (C, F)         (E)            0.142857            0.285714  0.142857   \n",
            "14      (F, E)         (C)            0.142857            0.571429  0.142857   \n",
            "15         (F)      (C, E)            0.142857            0.285714  0.142857   \n",
            "16      (F, E)         (D)            0.142857            0.428571  0.142857   \n",
            "17      (F, D)         (E)            0.142857            0.285714  0.142857   \n",
            "18         (F)      (D, E)            0.142857            0.285714  0.142857   \n",
            "19   (C, E, F)         (D)            0.142857            0.428571  0.142857   \n",
            "20   (C, D, F)         (E)            0.142857            0.285714  0.142857   \n",
            "21   (F, D, E)         (C)            0.142857            0.571429  0.142857   \n",
            "22      (C, F)      (D, E)            0.142857            0.285714  0.142857   \n",
            "23      (F, E)      (C, D)            0.142857            0.285714  0.142857   \n",
            "24      (F, D)      (C, E)            0.142857            0.285714  0.142857   \n",
            "25         (F)   (C, D, E)            0.142857            0.285714  0.142857   \n",
            "\n",
            "    confidence      lift  leverage  conviction  \n",
            "0          1.0  1.750000  0.122449         inf  \n",
            "1          1.0  1.750000  0.061224         inf  \n",
            "2          1.0  2.333333  0.163265         inf  \n",
            "3          1.0  2.333333  0.081633         inf  \n",
            "4          1.0  3.500000  0.102041         inf  \n",
            "5          1.0  1.750000  0.061224         inf  \n",
            "6          1.0  2.333333  0.163265         inf  \n",
            "7          1.0  3.500000  0.204082         inf  \n",
            "8          1.0  1.750000  0.122449         inf  \n",
            "9          1.0  3.500000  0.204082         inf  \n",
            "10         1.0  2.333333  0.081633         inf  \n",
            "11         1.0  1.750000  0.061224         inf  \n",
            "12         1.0  3.500000  0.102041         inf  \n",
            "13         1.0  3.500000  0.102041         inf  \n",
            "14         1.0  1.750000  0.061224         inf  \n",
            "15         1.0  3.500000  0.102041         inf  \n",
            "16         1.0  2.333333  0.081633         inf  \n",
            "17         1.0  3.500000  0.102041         inf  \n",
            "18         1.0  3.500000  0.102041         inf  \n",
            "19         1.0  2.333333  0.081633         inf  \n",
            "20         1.0  3.500000  0.102041         inf  \n",
            "21         1.0  1.750000  0.061224         inf  \n",
            "22         1.0  3.500000  0.102041         inf  \n",
            "23         1.0  3.500000  0.102041         inf  \n",
            "24         1.0  3.500000  0.102041         inf  \n",
            "25         1.0  3.500000  0.102041         inf  \n"
          ]
        }
      ],
      "source": [
        "print(rules_ap)"
      ]
    },
    {
      "cell_type": "code",
      "execution_count": null,
      "metadata": {
        "id": "3ufakiFbkcz9",
        "outputId": "f07c81d4-2224-4558-d5f2-35c499b6ef19"
      },
      "outputs": [
        {
          "name": "stdout",
          "output_type": "stream",
          "text": [
            "   antecedents consequents  antecedent support  consequent support   support  \\\n",
            "0       (C, A)         (B)            0.142857            0.571429  0.142857   \n",
            "1          (E)         (D)            0.285714            0.428571  0.285714   \n",
            "2          (E)         (C)            0.285714            0.571429  0.285714   \n",
            "3       (C, E)         (D)            0.285714            0.428571  0.285714   \n",
            "4       (C, D)         (E)            0.285714            0.285714  0.285714   \n",
            "5       (D, E)         (C)            0.285714            0.571429  0.285714   \n",
            "6          (E)      (C, D)            0.285714            0.285714  0.285714   \n",
            "7          (F)         (E)            0.142857            0.285714  0.142857   \n",
            "8          (F)         (D)            0.142857            0.428571  0.142857   \n",
            "9          (F)         (C)            0.142857            0.571429  0.142857   \n",
            "10      (F, E)         (D)            0.142857            0.428571  0.142857   \n",
            "11      (F, D)         (E)            0.142857            0.285714  0.142857   \n",
            "12         (F)      (D, E)            0.142857            0.285714  0.142857   \n",
            "13      (C, F)         (E)            0.142857            0.285714  0.142857   \n",
            "14      (F, E)         (C)            0.142857            0.571429  0.142857   \n",
            "15         (F)      (C, E)            0.142857            0.285714  0.142857   \n",
            "16      (C, F)         (D)            0.142857            0.428571  0.142857   \n",
            "17      (F, D)         (C)            0.142857            0.571429  0.142857   \n",
            "18         (F)      (C, D)            0.142857            0.285714  0.142857   \n",
            "19   (C, E, F)         (D)            0.142857            0.428571  0.142857   \n",
            "20   (C, D, F)         (E)            0.142857            0.285714  0.142857   \n",
            "21   (F, D, E)         (C)            0.142857            0.571429  0.142857   \n",
            "22      (C, F)      (D, E)            0.142857            0.285714  0.142857   \n",
            "23      (F, E)      (C, D)            0.142857            0.285714  0.142857   \n",
            "24      (F, D)      (C, E)            0.142857            0.285714  0.142857   \n",
            "25         (F)   (C, D, E)            0.142857            0.285714  0.142857   \n",
            "\n",
            "    confidence      lift  leverage  conviction  \n",
            "0          1.0  1.750000  0.061224         inf  \n",
            "1          1.0  2.333333  0.163265         inf  \n",
            "2          1.0  1.750000  0.122449         inf  \n",
            "3          1.0  2.333333  0.163265         inf  \n",
            "4          1.0  3.500000  0.204082         inf  \n",
            "5          1.0  1.750000  0.122449         inf  \n",
            "6          1.0  3.500000  0.204082         inf  \n",
            "7          1.0  3.500000  0.102041         inf  \n",
            "8          1.0  2.333333  0.081633         inf  \n",
            "9          1.0  1.750000  0.061224         inf  \n",
            "10         1.0  2.333333  0.081633         inf  \n",
            "11         1.0  3.500000  0.102041         inf  \n",
            "12         1.0  3.500000  0.102041         inf  \n",
            "13         1.0  3.500000  0.102041         inf  \n",
            "14         1.0  1.750000  0.061224         inf  \n",
            "15         1.0  3.500000  0.102041         inf  \n",
            "16         1.0  2.333333  0.081633         inf  \n",
            "17         1.0  1.750000  0.061224         inf  \n",
            "18         1.0  3.500000  0.102041         inf  \n",
            "19         1.0  2.333333  0.081633         inf  \n",
            "20         1.0  3.500000  0.102041         inf  \n",
            "21         1.0  1.750000  0.061224         inf  \n",
            "22         1.0  3.500000  0.102041         inf  \n",
            "23         1.0  3.500000  0.102041         inf  \n",
            "24         1.0  3.500000  0.102041         inf  \n",
            "25         1.0  3.500000  0.102041         inf  \n"
          ]
        }
      ],
      "source": [
        "print(rules_fp)"
      ]
    },
    {
      "cell_type": "code",
      "execution_count": null,
      "metadata": {
        "id": "MoGXDmobkcz_"
      },
      "outputs": [],
      "source": []
    }
  ],
  "metadata": {
    "kernelspec": {
      "display_name": "Python 3",
      "language": "python",
      "name": "python3"
    },
    "language_info": {
      "codemirror_mode": {
        "name": "ipython",
        "version": 3
      },
      "file_extension": ".py",
      "mimetype": "text/x-python",
      "name": "python",
      "nbconvert_exporter": "python",
      "pygments_lexer": "ipython3",
      "version": "3.8.5"
    },
    "colab": {
      "provenance": []
    }
  },
  "nbformat": 4,
  "nbformat_minor": 0
}